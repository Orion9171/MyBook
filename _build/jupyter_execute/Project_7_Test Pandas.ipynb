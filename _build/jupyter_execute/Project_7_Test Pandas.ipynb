{
 "cells": [
  {
   "cell_type": "code",
   "execution_count": 1,
   "metadata": {},
   "outputs": [
    {
     "name": "stdout",
     "output_type": "stream",
     "text": [
      "Requirement already satisfied: pandas in c:\\anaconda3\\lib\\site-packages (1.1.3)\n",
      "Requirement already satisfied: numpy>=1.15.4 in c:\\anaconda3\\lib\\site-packages (from pandas) (1.19.2)\n",
      "Requirement already satisfied: python-dateutil>=2.7.3 in c:\\anaconda3\\lib\\site-packages (from pandas) (2.8.1)\n",
      "Requirement already satisfied: pytz>=2017.2 in c:\\anaconda3\\lib\\site-packages (from pandas) (2019.3)\n",
      "Requirement already satisfied: six>=1.5 in c:\\anaconda3\\lib\\site-packages (from python-dateutil>=2.7.3->pandas) (1.15.0)\n"
     ]
    }
   ],
   "source": [
    "!pip install pandas"
   ]
  },
  {
   "cell_type": "code",
   "execution_count": 2,
   "metadata": {},
   "outputs": [
    {
     "name": "stdout",
     "output_type": "stream",
     "text": [
      "<class 'pandas.core.series.Series'>\n",
      "0    蘋果\n",
      "1    橘子\n",
      "2    梨子\n",
      "3    櫻桃\n",
      "dtype: object\n",
      "RangeIndex(start=0, stop=4, step=1)\n",
      "['蘋果' '橘子' '梨子' '櫻桃']\n",
      "\n",
      "<class 'pandas.core.series.Series'>\n",
      "蘋果    15\n",
      "橘子    33\n",
      "梨子    45\n",
      "櫻桃    55\n",
      "dtype: int64\n",
      "Index(['蘋果', '橘子', '梨子', '櫻桃'], dtype='object')\n",
      "[15 33 45 55]\n",
      "15\n"
     ]
    }
   ],
   "source": [
    "import pandas as pd\n",
    "fruits=[\"蘋果\", \"橘子\", \"梨子\", \"櫻桃\"]\n",
    "s1=pd.Series(fruits)\n",
    "print(type(s1))\n",
    "print(s1)\n",
    "print(s1.index)\n",
    "print(s1.values)\n",
    "print()\n",
    "quantities=[15, 33, 45, 55]\n",
    "s2=pd.Series(quantities,fruits)\n",
    "print(type(s2))\n",
    "print(s2)\n",
    "print(s2.index)\n",
    "print(s2.values)\n",
    "print(s2['蘋果'])"
   ]
  },
  {
   "cell_type": "code",
   "execution_count": 3,
   "metadata": {},
   "outputs": [
    {
     "name": "stdout",
     "output_type": "stream",
     "text": [
      "<class 'pandas.core.series.Series'>\n",
      "0    15\n",
      "1    33\n",
      "2    45\n",
      "3    55\n",
      "dtype: int64\n",
      "RangeIndex(start=0, stop=4, step=1)\n",
      "[15 33 45 55]\n",
      "\n",
      "<class 'pandas.core.series.Series'>\n",
      "蘋果    15\n",
      "橘子    33\n",
      "梨子    45\n",
      "櫻桃    55\n",
      "dtype: int64\n",
      "Index(['蘋果', '橘子', '梨子', '櫻桃'], dtype='object')\n",
      "[15 33 45 55]\n"
     ]
    }
   ],
   "source": [
    "import pandas as pd\n",
    "fruits=[\"蘋果\", \"橘子\", \"梨子\", \"櫻桃\"]\n",
    "quantities=[15, 33, 45, 55]\n",
    "s3=pd.Series(quantities)\n",
    "print(type(s3))\n",
    "print(s3)\n",
    "print(s3.index)\n",
    "print(s3.values)\n",
    "print()\n",
    "dict4={\"蘋果\":15, \"橘子\":33, \"梨子\":45, \"櫻桃\":55}\n",
    "s4=pd.Series(dict4)\n",
    "print(type(s4))\n",
    "print(s4)\n",
    "print(s4.index)\n",
    "print(s4.values)"
   ]
  },
  {
   "cell_type": "code",
   "execution_count": 4,
   "metadata": {},
   "outputs": [
    {
     "name": "stdout",
     "output_type": "stream",
     "text": [
      "4\n",
      "39.0\n",
      "37.0\n",
      "15\n",
      "55\n",
      "---------\n",
      "count     4.000000\n",
      "mean     37.000000\n",
      "std      17.204651\n",
      "min      15.000000\n",
      "25%      28.500000\n",
      "50%      39.000000\n",
      "75%      47.500000\n",
      "max      55.000000\n",
      "dtype: float64\n",
      "296.0\n",
      "17.204650534085253\n",
      "0     225\n",
      "1    1089\n",
      "2    2025\n",
      "3    3025\n",
      "dtype: int64\n"
     ]
    }
   ],
   "source": [
    "import pandas as pd\n",
    "quantities = [15, 33, 45, 55]\n",
    "s5 = pd.Series(quantities)\n",
    "print(s5.count( ))\n",
    "print(s5.median( ))\n",
    "print(s5.mean( ))\n",
    "print(s5.min( ))\n",
    "print(s5.max( ))\n",
    "print(\"---------\")\n",
    "print(s5.describe( ))\n",
    "print(s5.var( ))\n",
    "print(s5.std ( ))\n",
    "print(s5.apply(lambda x:x**2))"
   ]
  },
  {
   "cell_type": "code",
   "execution_count": 5,
   "metadata": {},
   "outputs": [
    {
     "name": "stdout",
     "output_type": "stream",
     "text": [
      "     name  age gender\n",
      "0     Tom   28      m\n",
      "1    Jack   34      m\n",
      "2  Stella   29      f\n",
      "3   Ricky   42      m\n",
      "        name  age gender\n",
      "emp1     Tom   28      m\n",
      "emp2    Jack   34      m\n",
      "emp3  Stella   29      f\n",
      "emp4   Ricky   42      m\n",
      "     name gender\n",
      "1     Tom      m\n",
      "2    Jack      m\n",
      "3  Stella      f\n",
      "4   Ricky      m\n",
      "     name  age\n",
      "1     Tom   28\n",
      "2    Jack   34\n",
      "3  Stella   29\n",
      "4   Ricky   42\n"
     ]
    }
   ],
   "source": [
    "import pandas as pd\n",
    "data1={'name':['Tom','Jack','Stella','Ricky'],'age':[28,34,29,42],'gender':['m','m','f','m']}\n",
    "df1=pd.DataFrame(data1)\n",
    "print(df1)\n",
    "df2=pd.DataFrame(data1,index=['emp1','emp2','emp3','emp4'])\n",
    "print(df2)\n",
    "df3=pd.DataFrame(data1,index=range(1,5),columns=(['name','gender']))\n",
    "print(df3)\n",
    "df4=pd.DataFrame(data1,index=range(1,5),columns=(['name','age']))\n",
    "print(df4)"
   ]
  },
  {
   "cell_type": "code",
   "execution_count": 6,
   "metadata": {},
   "outputs": [
    {
     "name": "stdout",
     "output_type": "stream",
     "text": [
      "     Name  Age Gender\n",
      "0     Tom   28      M\n",
      "1    Jack   34      M\n",
      "2  Stella   29      F\n",
      "3   Ricky   42      M\n",
      "        Name  Age Gender\n",
      "emp1     Tom   28      M\n",
      "emp2    Jack   34      M\n",
      "emp3  Stella   29      F\n",
      "emp4   Ricky   42      M\n",
      "     Name Gender\n",
      "1     Tom      M\n",
      "2    Jack      M\n",
      "3  Stella      F\n",
      "4   Ricky      M\n",
      "     Name  Age\n",
      "1     Tom   28\n",
      "2    Jack   34\n",
      "3  Stella   29\n",
      "4   Ricky   42\n"
     ]
    }
   ],
   "source": [
    "import pandas as pd\n",
    "data2=[{'Name':'Tom', 'Age': 28, 'Gender':'M'},\n",
    "      {'Name':'Jack', 'Age': 34, 'Gender':'M'},\n",
    "      {'Name':'Stella', 'Age': 29, 'Gender':'F'},\n",
    "      {'Name':'Ricky', 'Age': 42, 'Gender':'M'}]\n",
    "df1=pd.DataFrame(data2)\n",
    "print(df1)\n",
    "df2=pd.DataFrame(data2,index=['emp1','emp2','emp3','emp4'],columns=(['Name','Age','Gender']))\n",
    "print(df2)\n",
    "df3=pd.DataFrame(data2,index=range(1,5),columns=(['Name','Gender']))\n",
    "print(df3)\n",
    "df4=pd.DataFrame(data2,index=range(1,5),columns=(['Name','Age']))\n",
    "print(df4)"
   ]
  },
  {
   "cell_type": "code",
   "execution_count": 7,
   "metadata": {},
   "outputs": [
    {
     "name": "stdout",
     "output_type": "stream",
     "text": [
      "        0   1  2\n",
      "0     Tom  28  m\n",
      "1    Jack  34  m\n",
      "2  Stella  29  f\n",
      "3   Ricky  42  m\n",
      "     name  age gender\n",
      "1     Tom   28      m\n",
      "2    Jack   34      m\n",
      "3  Stella   29      f\n",
      "4   Ricky   42      m\n"
     ]
    }
   ],
   "source": [
    "import pandas as pd\n",
    "data3=[['Tom',28,'m'],['Jack',34,'m'],['Stella',29,'f'],['Ricky',42,'m']]\n",
    "df1=pd.DataFrame(data3)\n",
    "print(df1)\n",
    "df2=pd.DataFrame(data3,index=range(1,5),columns=('name','age','gender'))\n",
    "print(df2)"
   ]
  },
  {
   "cell_type": "code",
   "execution_count": 8,
   "metadata": {
    "scrolled": true
   },
   "outputs": [
    {
     "name": "stdout",
     "output_type": "stream",
     "text": [
      "        0   1  2\n",
      "0     Tom  28  M\n",
      "1    Jack  34  M\n",
      "2  Stella  29  F\n",
      "3   Ricky  42  M\n",
      "     Name Age Gender\n",
      "1     Tom  28      M\n",
      "2    Jack  34      M\n",
      "3  Stella  29      F\n",
      "4   Ricky  42      M\n"
     ]
    }
   ],
   "source": [
    "import pandas as pd\n",
    "import numpy as np\n",
    "data4=np.array([['Tom', 28, 'M'],['Jack',34,'M'],['Stella',29,'F'],['Ricky',42,'M']])\n",
    "df1=pd.DataFrame(data4)\n",
    "print(df1)\n",
    "df2=pd.DataFrame(data4,index=range(1,5),columns=['Name','Age','Gender'])\n",
    "print(df2)"
   ]
  },
  {
   "cell_type": "code",
   "execution_count": 9,
   "metadata": {},
   "outputs": [
    {
     "name": "stdout",
     "output_type": "stream",
     "text": [
      "     Name  Age Gender\n",
      "1     Tom   28      M\n",
      "2    Jack   34      M\n",
      "3  Stella   29      F\n",
      "4   Ricky   42      M\n",
      "     name  age gender\n",
      "1     Tom   28      M\n",
      "2    Jack   34      M\n",
      "3  Stella   29      F\n",
      "4   Ricky   42      M\n"
     ]
    }
   ],
   "source": [
    "import pandas as pd\n",
    "cindex=range(1,5)\n",
    "data5={'Name' : pd.Series(['Tom', 'Jack', 'Stella', 'Ricky'],index=cindex),\n",
    "                        'Age' : pd.Series([28,34,29,42],index=cindex),\n",
    "                        'Gender' : pd.Series(['M', 'M', 'F', 'M'],index=cindex)}\n",
    "df1 = pd.DataFrame(data5,index=cindex)\n",
    "print(df1)\n",
    "data6 = [pd.Series(['Tom', 28, 'M'],index=['name','age','gender']),\n",
    "         pd.Series(['Jack', 34, 'M'],index=['name','age','gender']),\n",
    "         pd.Series(['Stella', 29, 'F'],index=['name','age','gender']),\n",
    "         pd.Series(['Ricky', 42, 'M'],index=['name','age','gender'])]\n",
    "df2 = pd.DataFrame(data6,index=range(1,5))\n",
    "print(df2)"
   ]
  },
  {
   "cell_type": "code",
   "execution_count": 10,
   "metadata": {},
   "outputs": [
    {
     "name": "stdout",
     "output_type": "stream",
     "text": [
      "     name  age gender\n",
      "1     Tom   28      M\n",
      "2    Jack   34      M\n",
      "3  Stella   29      F\n",
      "4   Ricky   42      M\n"
     ]
    }
   ],
   "source": [
    "rindex=range(1,5)\n",
    "s1=pd.Series(['Tom','Jack','Stella','Ricky'],index=rindex)\n",
    "s2=pd.Series([28,34,29,42],index=rindex)\n",
    "s3=pd.Series(['M','M','F','M'],index=rindex)\n",
    "data7={'name':s1,'age':s2,'gender':s3}\n",
    "data8=pd.DataFrame(data7,index=rindex)\n",
    "print(data8)"
   ]
  },
  {
   "cell_type": "code",
   "execution_count": 11,
   "metadata": {},
   "outputs": [
    {
     "name": "stdout",
     "output_type": "stream",
     "text": [
      "        country  population      area   capital\n",
      "BR       Brazil         200   8515767  Brasilia\n",
      "RU       Russia         144  17098242    Moscow\n",
      "IN        India        1252   3287590  NewDelhi\n",
      "CH        China        1357   9596961   Beijing\n",
      "SA  SouthAfrica          55   1221037  Pretoria\n"
     ]
    }
   ],
   "source": [
    "import pandas as pd\n",
    "data = {\"country\":[\"Brazil\",\"Russia\",\"India\",\"China\",\"SouthAfrica\"],\n",
    "        \"population\":[200,144,1252,1357,55],\n",
    "        \"area\":[8515767,17098242,3287590,9596961,1221037],\n",
    "        \"capital\":[\"Brasilia\",\"Moscow\",\"NewDelhi\",\"Beijing\",\"Pretoria\"]}\n",
    "df=pd.DataFrame(data,index=['BR','RU','IN','CH','SA'])\n",
    "print(df)\n",
    "df.to_html('brics.html')\n",
    "df.to_csv('brics.csv')\n",
    "df.to_csv('brics2.csv',header=False)\n",
    "df.to_json('brics.json')"
   ]
  },
  {
   "cell_type": "code",
   "execution_count": 12,
   "metadata": {},
   "outputs": [
    {
     "name": "stdout",
     "output_type": "stream",
     "text": [
      "           name  population city\n",
      "first       中正區      159598  台北市\n",
      "second      板橋區      551452  新北市\n",
      "third       桃園區      441287  桃園市\n",
      "fourth      北屯區      275207  台中市\n",
      "fifth       安南區      192327  台南市\n",
      "sixth       三民區      343203  高雄市\n",
      "seventh     大安區      309835  台北市\n",
      "eigth       永和區      222531  新北市\n",
      "ninth       八德區      198473  桃園市\n",
      "tenth       前鎮區      189623  高雄市\n",
      "eleventh    鳳山區      359125  高雄市\n",
      "twelvth     信義區      225561  台北市\n",
      "thirteenth  新店區      302070  新北市\n"
     ]
    }
   ],
   "source": [
    "import pandas as pd\n",
    "data = {\"name\": [\"中正區\", \"板橋區\", \"桃園區\", \"北屯區\", \"安南區\", \"三民區\", \"大安區\", \"永和區\", \"八德區\", \"前鎮區\", \"鳳山區\", \"信義區\", \"新店區\"],\n",
    "        \"population\": [159598, 551452, 441287, 275207, 192327, 343203, 309835, 222531, 198473, 189623, 359125, 225561, 302070],\n",
    "        \"city\": [\"台北市\", \"新北市\", \"桃園市\", \"台中市\", \"台南市\", \"高雄市\", \"台北市\", \"新北市\", \"桃園市\", \"高雄市\", \"高雄市\", \"台北市\", \"新北市\"]}\n",
    "rows = [\"first\", \"second\", \"third\", \"fourth\", \"fifth\", \"sixth\", \"seventh\",\"eigth\", \"ninth\", \"tenth\", \"eleventh\", \"twelvth\", \"thirteenth\"]\n",
    "df2=pd.DataFrame(data,index=rows)\n",
    "print(df2)\n",
    "df2.to_html('area.html')\n",
    "df2.to_csv('area.csv')\n",
    "df2.to_json('area.json',force_ascii=False)"
   ]
  },
  {
   "cell_type": "code",
   "execution_count": 13,
   "metadata": {},
   "outputs": [
    {
     "name": "stdout",
     "output_type": "stream",
     "text": [
      "  Unnamed: 0      country  population      area   capital\n",
      "0         BR       Brazil         200   8515767  Brasilia\n",
      "1         RU       Russia         144  17098242    Moscow\n",
      "2         IN        India        1252   3287590  NewDelhi\n",
      "3         CH        China        1357   9596961   Beijing\n",
      "4         SA  SouthAfrica          55   1221037  Pretoria\n",
      "\n",
      "               1           2         3         4\n",
      "0                                               \n",
      "NaN      country  population      area   capital\n",
      "BR        Brazil         200   8515767  Brasilia\n",
      "RU        Russia         144  17098242    Moscow\n",
      "IN         India        1252   3287590  NewDelhi\n",
      "CH         China        1357   9596961   Beijing\n",
      "SA   SouthAfrica          55   1221037  Pretoria\n",
      "\n"
     ]
    }
   ],
   "source": [
    "import pandas as pd\n",
    "df1=pd.read_csv('brics.csv')\n",
    "print(df1)\n",
    "print()\n",
    "df2=pd.read_csv('brics.csv',header=None,index_col=0)\n",
    "print(df2)\n",
    "print()"
   ]
  },
  {
   "cell_type": "code",
   "execution_count": 14,
   "metadata": {},
   "outputs": [
    {
     "name": "stdout",
     "output_type": "stream",
     "text": [
      "  Unnamed: 0      country  population      area   capital\n",
      "0         BR       Brazil         200   8515767  Brasilia\n",
      "1         RU       Russia         144  17098242    Moscow\n",
      "2         IN        India        1252   3287590  NewDelhi\n",
      "3         CH        China        1357   9596961   Beijing\n",
      "4         SA  SouthAfrica          55   1221037  Pretoria\n",
      "--------------------------\n",
      "  code      country  population      area   capital\n",
      "0   BR       Brazil         200   8515767  Brasilia\n",
      "1   RU       Russia         144  17098242    Moscow\n",
      "2   IN        India        1252   3287590  NewDelhi\n",
      "3   CH        China        1357   9596961   Beijing\n",
      "4   SA  SouthAfrica          55   1221037  Pretoria\n",
      "--------------------------\n",
      "        country  population      area   capital\n",
      "BR       Brazil         200   8515767  Brasilia\n",
      "RU       Russia         144  17098242    Moscow\n",
      "IN        India        1252   3287590  NewDelhi\n",
      "CH        China        1357   9596961   Beijing\n",
      "SA  SouthAfrica          55   1221037  Pretoria\n",
      "--------------------------\n"
     ]
    }
   ],
   "source": [
    "import pandas as pd\n",
    "df1=pd.read_csv('brics.csv')\n",
    "print(df1)\n",
    "print('--------------------------')\n",
    "cols=['code','country','population','area','capital']\n",
    "df2 = pd.read_csv(\"brics2.csv\", header=None, names=cols)\n",
    "print(df2)\n",
    "print('--------------------------')\n",
    "cols2=['country','population','area','capital']\n",
    "df3 = pd.read_csv(\"brics2.csv\", names=cols2, index_col=0)\n",
    "print(df3)\n",
    "print('--------------------------')"
   ]
  },
  {
   "cell_type": "code",
   "execution_count": 15,
   "metadata": {},
   "outputs": [
    {
     "name": "stdout",
     "output_type": "stream",
     "text": [
      "    Unnamed: 0 name  population city\n",
      "0        first  中正區      159598  台北市\n",
      "1       second  板橋區      551452  新北市\n",
      "2        third  桃園區      441287  桃園市\n",
      "3       fourth  北屯區      275207  台中市\n",
      "4        fifth  安南區      192327  台南市\n",
      "5        sixth  三民區      343203  高雄市\n",
      "6      seventh  大安區      309835  台北市\n",
      "7        eigth  永和區      222531  新北市\n",
      "8        ninth  八德區      198473  桃園市\n",
      "9        tenth  前鎮區      189623  高雄市\n",
      "10    eleventh  鳳山區      359125  高雄市\n",
      "11     twelvth  信義區      225561  台北市\n",
      "12  thirteenth  新店區      302070  新北市\n",
      "\n",
      "           name  population city\n",
      "first       中正區      159598  台北市\n",
      "second      板橋區      551452  新北市\n",
      "third       桃園區      441287  桃園市\n",
      "fourth      北屯區      275207  台中市\n",
      "fifth       安南區      192327  台南市\n",
      "sixth       三民區      343203  高雄市\n",
      "seventh     大安區      309835  台北市\n",
      "eigth       永和區      222531  新北市\n",
      "ninth       八德區      198473  桃園市\n",
      "tenth       前鎮區      189623  高雄市\n",
      "eleventh    鳳山區      359125  高雄市\n",
      "twelvth     信義區      225561  台北市\n",
      "thirteenth  新店區      302070  新北市\n"
     ]
    }
   ],
   "source": [
    "df1=pd.read_csv('area.csv')\n",
    "print(df1)\n",
    "print()\n",
    "df2=pd.read_csv('area.csv',header=0,index_col=0)\n",
    "print(df2)"
   ]
  },
  {
   "cell_type": "code",
   "execution_count": 16,
   "metadata": {},
   "outputs": [
    {
     "name": "stdout",
     "output_type": "stream",
     "text": [
      "        country  population      area   capital\n",
      "BR       Brazil         200   8515767  Brasilia\n",
      "RU       Russia         144  17098242    Moscow\n",
      "IN        India        1252   3287590  NewDelhi\n",
      "CH        China        1357   9596961   Beijing\n",
      "SA  SouthAfrica          55   1221037  Pretoria\n",
      "\n"
     ]
    },
    {
     "name": "stdout",
     "output_type": "stream",
     "text": [
      "           name  population city\n",
      "first       中正區      159598  台北市\n",
      "second      板橋區      551452  新北市\n",
      "third       桃園區      441287  桃園市\n",
      "fourth      北屯區      275207  台中市\n",
      "fifth       安南區      192327  台南市\n",
      "sixth       三民區      343203  高雄市\n",
      "seventh     大安區      309835  台北市\n",
      "eigth       永和區      222531  新北市\n",
      "ninth       八德區      198473  桃園市\n",
      "tenth       前鎮區      189623  高雄市\n",
      "eleventh    鳳山區      359125  高雄市\n",
      "twelvth     信義區      225561  台北市\n",
      "thirteenth  新店區      302070  新北市\n"
     ]
    }
   ],
   "source": [
    "import pandas as pd\n",
    "df1=pd.read_json('brics.json')\n",
    "print(df1)\n",
    "print()\n",
    "df2=pd.read_json('area.json',encoding='big5')\n",
    "print(df2)"
   ]
  },
  {
   "cell_type": "code",
   "execution_count": 17,
   "metadata": {},
   "outputs": [
    {
     "name": "stdout",
     "output_type": "stream",
     "text": [
      "Requirement already satisfied: lxml in c:\\anaconda3\\lib\\site-packages (4.6.1)\n"
     ]
    }
   ],
   "source": [
    "!pip install lxml"
   ]
  },
  {
   "cell_type": "code",
   "execution_count": null,
   "metadata": {},
   "outputs": [],
   "source": []
  }
 ],
 "metadata": {
  "kernelspec": {
   "display_name": "Python 3",
   "language": "python",
   "name": "python3"
  },
  "language_info": {
   "codemirror_mode": {
    "name": "ipython",
    "version": 3
   },
   "file_extension": ".py",
   "mimetype": "text/x-python",
   "name": "python",
   "nbconvert_exporter": "python",
   "pygments_lexer": "ipython3",
   "version": "3.8.5"
  }
 },
 "nbformat": 4,
 "nbformat_minor": 4
}