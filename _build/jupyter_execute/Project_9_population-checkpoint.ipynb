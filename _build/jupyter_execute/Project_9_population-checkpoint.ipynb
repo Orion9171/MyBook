{
 "cells": [
  {
   "cell_type": "code",
   "execution_count": 1,
   "metadata": {},
   "outputs": [
    {
     "name": "stdout",
     "output_type": "stream",
     "text": [
      "[183.5 171.8 168.9 ... 178.3 171.  163. ]\n",
      "----------\n",
      "[48.3 73.9 53.3 ... 66.4 65.9 92.5]\n",
      "----------\n"
     ]
    }
   ],
   "source": [
    "import numpy as np\n",
    "h=np.around(np.random.normal(loc=175,scale=10,size=5000),1)\n",
    "w=np.around(np.random.normal(loc=60,scale=15,size=5000),1)\n",
    "print(h)\n",
    "print('----------')\n",
    "print(w)\n",
    "print('----------')"
   ]
  },
  {
   "cell_type": "code",
   "execution_count": 2,
   "metadata": {},
   "outputs": [
    {
     "name": "stdout",
     "output_type": "stream",
     "text": [
      "身高範圍:\n",
      "最高身高: 212.3\n",
      "最矮身高 135.1\n",
      "-------------------\n",
      "體重範圍:\n",
      "最肥體重: 110.2\n",
      "最輕體重: 3.2\n"
     ]
    }
   ],
   "source": [
    "m_height=np.max(h,axis=None)\n",
    "l_height=np.min(h,axis=None)\n",
    "m_weight=np.max(w,axis=None)\n",
    "l_weight=np.min(w,axis=None)\n",
    "print('身高範圍:')\n",
    "print('最高身高:',m_height)\n",
    "print('最矮身高',l_height)\n",
    "print('-------------------')\n",
    "print('體重範圍:')\n",
    "print('最肥體重:',m_weight)\n",
    "print('最輕體重:',l_weight)"
   ]
  },
  {
   "cell_type": "code",
   "execution_count": 3,
   "metadata": {},
   "outputs": [
    {
     "name": "stdout",
     "output_type": "stream",
     "text": [
      "平均身高: 175.0\n",
      "平均體重: 60.0\n"
     ]
    }
   ],
   "source": [
    "#average calculation\n",
    "avr_height=np.around(np.mean(h,axis=None))\n",
    "avr_weight=np.around(np.mean(w,axis=None))\n",
    "print('平均身高:',avr_height)\n",
    "print('平均體重:',avr_weight)"
   ]
  },
  {
   "cell_type": "code",
   "execution_count": 4,
   "metadata": {},
   "outputs": [
    {
     "name": "stdout",
     "output_type": "stream",
     "text": [
      "身高中位數: 174.9\n",
      "體重中位數: 59.95\n"
     ]
    }
   ],
   "source": [
    "#medium number\n",
    "m_h=np.median(h,axis=None)\n",
    "m_w=np.median(w,axis=None)\n",
    "print('身高中位數:',m_h)\n",
    "print('體重中位數:',m_w)"
   ]
  },
  {
   "cell_type": "code",
   "execution_count": 5,
   "metadata": {},
   "outputs": [
    {
     "name": "stdout",
     "output_type": "stream",
     "text": [
      "身高標準差: 10.0\n",
      "體重標準差: 15.0\n"
     ]
    }
   ],
   "source": [
    "#standard division\n",
    "s_h=np.around(np.std(h,axis=None))\n",
    "s_w=np.around(np.std(w,axis=None))\n",
    "print('身高標準差:',s_h)\n",
    "print('體重標準差:',s_w)"
   ]
  },
  {
   "cell_type": "code",
   "execution_count": 6,
   "metadata": {},
   "outputs": [
    {
     "name": "stdout",
     "output_type": "stream",
     "text": [
      "[[ 1.         -0.00770525]\n",
      " [-0.00770525  1.        ]]\n"
     ]
    }
   ],
   "source": [
    "h_w=np.corrcoef(h,w)\n",
    "print(h_w)"
   ]
  },
  {
   "cell_type": "code",
   "execution_count": null,
   "metadata": {},
   "outputs": [],
   "source": []
  },
  {
   "cell_type": "code",
   "execution_count": null,
   "metadata": {},
   "outputs": [],
   "source": []
  }
 ],
 "metadata": {
  "kernelspec": {
   "display_name": "Python 3",
   "language": "python",
   "name": "python3"
  },
  "language_info": {
   "codemirror_mode": {
    "name": "ipython",
    "version": 3
   },
   "file_extension": ".py",
   "mimetype": "text/x-python",
   "name": "python",
   "nbconvert_exporter": "python",
   "pygments_lexer": "ipython3",
   "version": "3.8.5"
  }
 },
 "nbformat": 4,
 "nbformat_minor": 4
}