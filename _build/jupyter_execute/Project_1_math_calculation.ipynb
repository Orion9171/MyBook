{
 "cells": [
  {
   "cell_type": "markdown",
   "metadata": {},
   "source": [
    "# 2I"
   ]
  },
  {
   "cell_type": "code",
   "execution_count": 1,
   "metadata": {},
   "outputs": [
    {
     "name": "stdout",
     "output_type": "stream",
     "text": [
      "The solve to the question is: [18/5]\n"
     ]
    }
   ],
   "source": [
    "from sympy.solvers import solve\n",
    "from sympy.core import sympify\n",
    "ans=solve(sympify('Eq((x+2)*(x-3),(x-5)*(x-6))'))\n",
    "print('The solve to the question is:',ans)"
   ]
  },
  {
   "cell_type": "markdown",
   "metadata": {},
   "source": [
    "# 3C"
   ]
  },
  {
   "cell_type": "code",
   "execution_count": 2,
   "metadata": {},
   "outputs": [
    {
     "name": "stdout",
     "output_type": "stream",
     "text": [
      "The solve to the question is: 2.0\n"
     ]
    }
   ],
   "source": [
    "import math\n",
    "from sympy.solvers import solve\n",
    "from sympy import Symbol\n",
    "x=Symbol('x')\n",
    "key=solve([10-2*x-6],list=False)\n",
    "ans=math.fabs(key[x])\n",
    "print('The solve to the question is:',ans)"
   ]
  },
  {
   "cell_type": "markdown",
   "metadata": {},
   "source": [
    "# 3C-聯立方程式求解"
   ]
  },
  {
   "cell_type": "code",
   "execution_count": 3,
   "metadata": {
    "scrolled": true
   },
   "outputs": [
    {
     "ename": "StdinNotImplementedError",
     "evalue": "raw_input was called, but this frontend does not support input requests.",
     "output_type": "error",
     "traceback": [
      "\u001b[1;31m---------------------------------------------------------------------------\u001b[0m",
      "\u001b[1;31mStdinNotImplementedError\u001b[0m                  Traceback (most recent call last)",
      "\u001b[1;32m<ipython-input-3-dea8e18d9ab0>\u001b[0m in \u001b[0;36m<module>\u001b[1;34m\u001b[0m\n\u001b[0;32m      1\u001b[0m \u001b[1;31m#4*x+3*y-4,2*x+2*y-2*z-0,5*x+3*y+z+2\u001b[0m\u001b[1;33m\u001b[0m\u001b[1;33m\u001b[0m\u001b[1;33m\u001b[0m\u001b[0m\n\u001b[1;32m----> 2\u001b[1;33m \u001b[0meq1\u001b[0m\u001b[1;33m=\u001b[0m\u001b[0minput\u001b[0m\u001b[1;33m(\u001b[0m\u001b[1;34m'enter an equation:'\u001b[0m\u001b[1;33m)\u001b[0m\u001b[1;33m\u001b[0m\u001b[1;33m\u001b[0m\u001b[0m\n\u001b[0m\u001b[0;32m      3\u001b[0m \u001b[0meq2\u001b[0m\u001b[1;33m=\u001b[0m\u001b[0minput\u001b[0m\u001b[1;33m(\u001b[0m\u001b[1;34m'enter an equation:'\u001b[0m\u001b[1;33m)\u001b[0m\u001b[1;33m\u001b[0m\u001b[1;33m\u001b[0m\u001b[0m\n\u001b[0;32m      4\u001b[0m \u001b[0meq3\u001b[0m\u001b[1;33m=\u001b[0m\u001b[0minput\u001b[0m\u001b[1;33m(\u001b[0m\u001b[1;34m'enter an equation:'\u001b[0m\u001b[1;33m)\u001b[0m\u001b[1;33m\u001b[0m\u001b[1;33m\u001b[0m\u001b[0m\n\u001b[0;32m      5\u001b[0m \u001b[1;32mfrom\u001b[0m \u001b[0msympy\u001b[0m\u001b[1;33m.\u001b[0m\u001b[0msolvers\u001b[0m \u001b[1;32mimport\u001b[0m \u001b[0msolve\u001b[0m\u001b[1;33m\u001b[0m\u001b[1;33m\u001b[0m\u001b[0m\n",
      "\u001b[1;32mC:\\Anaconda3\\lib\\site-packages\\ipykernel\\kernelbase.py\u001b[0m in \u001b[0;36mraw_input\u001b[1;34m(self, prompt)\u001b[0m\n\u001b[0;32m    855\u001b[0m         \"\"\"\n\u001b[0;32m    856\u001b[0m         \u001b[1;32mif\u001b[0m \u001b[1;32mnot\u001b[0m \u001b[0mself\u001b[0m\u001b[1;33m.\u001b[0m\u001b[0m_allow_stdin\u001b[0m\u001b[1;33m:\u001b[0m\u001b[1;33m\u001b[0m\u001b[1;33m\u001b[0m\u001b[0m\n\u001b[1;32m--> 857\u001b[1;33m             raise StdinNotImplementedError(\n\u001b[0m\u001b[0;32m    858\u001b[0m                 \u001b[1;34m\"raw_input was called, but this frontend does not support input requests.\"\u001b[0m\u001b[1;33m\u001b[0m\u001b[1;33m\u001b[0m\u001b[0m\n\u001b[0;32m    859\u001b[0m             )\n",
      "\u001b[1;31mStdinNotImplementedError\u001b[0m: raw_input was called, but this frontend does not support input requests."
     ]
    }
   ],
   "source": [
    "#4*x+3*y-4,2*x+2*y-2*z-0,5*x+3*y+z+2\n",
    "eq1=input('enter an equation:')\n",
    "eq2=input('enter an equation:')\n",
    "eq3=input('enter an equation:')\n",
    "from sympy.solvers import solve\n",
    "from sympy import symbols\n",
    "x,y,z=symbols('x,y,z')\n",
    "ans=solve([eq1,eq2,eq3])\n",
    "print('The solve to the question is:',ans)"
   ]
  },
  {
   "cell_type": "markdown",
   "metadata": {},
   "source": [
    "# 4A-聯立方程式求解_2"
   ]
  },
  {
   "cell_type": "code",
   "execution_count": 2,
   "metadata": {},
   "outputs": [
    {
     "name": "stdout",
     "output_type": "stream",
     "text": [
      "enter an equation:2*a+2*b-c+d-4\n",
      "enter an equation:4*a+3*b-c+2*d-6\n",
      "enter an equation:8*a+5*b-3*c+4*d-12\n",
      "enter an equation:3*a+3*b-2*c+2*d-6\n",
      "The solve to the question is: {a: 1, b: 1, c: -1, d: -1}\n"
     ]
    }
   ],
   "source": [
    "#2*a+2*b-c+d-4,4*a+3*b-c+2*d-6,8*a+5*b-3*c+4*d-12,3*a+3*b-2*c+2*d-6\n",
    "eq1=input('enter an equation:')\n",
    "eq2=input('enter an equation:')\n",
    "eq3=input('enter an equation:')\n",
    "eq4=input('enter an equation:')\n",
    "from sympy.solvers import solve\n",
    "from sympy import symbols\n",
    "a,b,c,d=symbols('a,b,c,d')\n",
    "ans=solve([eq1,eq2,eq3,eq4])\n",
    "print('The solve to the question is:',ans)"
   ]
  }
 ],
 "metadata": {
  "kernelspec": {
   "display_name": "Python 3",
   "language": "python",
   "name": "python3"
  },
  "language_info": {
   "codemirror_mode": {
    "name": "ipython",
    "version": 3
   },
   "file_extension": ".py",
   "mimetype": "text/x-python",
   "name": "python",
   "nbconvert_exporter": "python",
   "pygments_lexer": "ipython3",
   "version": "3.8.5"
  }
 },
 "nbformat": 4,
 "nbformat_minor": 4
}