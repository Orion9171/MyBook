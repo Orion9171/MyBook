{
 "cells": [
  {
   "cell_type": "markdown",
   "metadata": {},
   "source": [
    "# 2I"
   ]
  },
  {
   "cell_type": "code",
   "execution_count": 1,
   "metadata": {},
   "outputs": [
    {
     "name": "stdout",
     "output_type": "stream",
     "text": [
      "The solve to the question is: [18/5]\n"
     ]
    }
   ],
   "source": [
    "from sympy.solvers import solve\n",
    "from sympy.core import sympify\n",
    "ans=solve(sympify('Eq((x+2)*(x-3),(x-5)*(x-6))'))\n",
    "print('The solve to the question is:',ans)"
   ]
  },
  {
   "cell_type": "markdown",
   "metadata": {},
   "source": [
    "# 3C"
   ]
  },
  {
   "cell_type": "code",
   "execution_count": 2,
   "metadata": {},
   "outputs": [
    {
     "name": "stdout",
     "output_type": "stream",
     "text": [
      "The solve to the question is: 2.0\n"
     ]
    }
   ],
   "source": [
    "import math\n",
    "from sympy.solvers import solve\n",
    "from sympy import Symbol\n",
    "x=Symbol('x')\n",
    "key=solve([10-2*x-6],list=False)\n",
    "ans=math.fabs(key[x])\n",
    "print('The solve to the question is:',ans)"
   ]
  },
  {
   "cell_type": "markdown",
   "metadata": {},
   "source": [
    "# 3C-聯立方程式求解"
   ]
  },
  {
   "cell_type": "code",
   "execution_count": 1,
   "metadata": {
    "scrolled": true
   },
   "outputs": [
    {
     "name": "stdout",
     "output_type": "stream",
     "text": [
      "enter an equation:4*x+3*y-4\n",
      "enter an equation:2*x+2*y-2*z-0\n",
      "enter an equation:5*x+3*y+z+2\n",
      "The solve to the question is: {x: -11, y: 16, z: 5}\n"
     ]
    }
   ],
   "source": [
    "#4*x+3*y-4,2*x+2*y-2*z-0,5*x+3*y+z+2\n",
    "eq1=input('enter an equation:')\n",
    "eq2=input('enter an equation:')\n",
    "eq3=input('enter an equation:')\n",
    "from sympy.solvers import solve\n",
    "from sympy import symbols\n",
    "x,y,z=symbols('x,y,z')\n",
    "ans=solve([eq1,eq2,eq3])\n",
    "print('The solve to the question is:',ans)"
   ]
  },
  {
   "cell_type": "markdown",
   "metadata": {},
   "source": [
    "# 4A-聯立方程式求解_2"
   ]
  },
  {
   "cell_type": "code",
   "execution_count": 2,
   "metadata": {},
   "outputs": [
    {
     "name": "stdout",
     "output_type": "stream",
     "text": [
      "enter an equation:2*a+2*b-c+d-4\n",
      "enter an equation:4*a+3*b-c+2*d-6\n",
      "enter an equation:8*a+5*b-3*c+4*d-12\n",
      "enter an equation:3*a+3*b-2*c+2*d-6\n",
      "The solve to the question is: {a: 1, b: 1, c: -1, d: -1}\n"
     ]
    }
   ],
   "source": [
    "#2*a+2*b-c+d-4,4*a+3*b-c+2*d-6,8*a+5*b-3*c+4*d-12,3*a+3*b-2*c+2*d-6\n",
    "eq1=input('enter an equation:')\n",
    "eq2=input('enter an equation:')\n",
    "eq3=input('enter an equation:')\n",
    "eq4=input('enter an equation:')\n",
    "from sympy.solvers import solve\n",
    "from sympy import symbols\n",
    "a,b,c,d=symbols('a,b,c,d')\n",
    "ans=solve([eq1,eq2,eq3,eq4])\n",
    "print('The solve to the question is:',ans)"
   ]
  }
 ],
 "metadata": {
  "kernelspec": {
   "display_name": "Python 3",
   "language": "python",
   "name": "python3"
  },
  "language_info": {
   "codemirror_mode": {
    "name": "ipython",
    "version": 3
   },
   "file_extension": ".py",
   "mimetype": "text/x-python",
   "name": "python",
   "nbconvert_exporter": "python",
   "pygments_lexer": "ipython3",
   "version": "3.8.5"
  }
 },
 "nbformat": 4,
 "nbformat_minor": 4
}
