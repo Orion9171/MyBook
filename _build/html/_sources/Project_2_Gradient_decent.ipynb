{
 "cells": [
  {
   "cell_type": "markdown",
   "metadata": {},
   "source": [
    "# Lab_1"
   ]
  },
  {
   "cell_type": "code",
   "execution_count": 35,
   "metadata": {},
   "outputs": [
    {
     "data": {
      "text/latex": [
       "$\\displaystyle 3 x^{2} - 2$"
      ],
      "text/plain": [
       "3*x**2 - 2"
      ]
     },
     "execution_count": 35,
     "metadata": {},
     "output_type": "execute_result"
    }
   ],
   "source": [
    "from sympy import *\n",
    "y=x**3-2*x+100\n",
    "x=Symbol('x')\n",
    "y.diff(x)"
   ]
  },
  {
   "cell_type": "code",
   "execution_count": 75,
   "metadata": {},
   "outputs": [
    {
     "name": "stdout",
     "output_type": "stream",
     "text": [
      "[2.   0.   0.4  0.7  0.81 0.82 0.82 0.82 0.82 0.82 0.82]\n"
     ]
    },
    {
     "data": {
      "image/png": "[encoded data removed]",
      "text/plain": [
       "<Figure size 432x288 with 1 Axes>"
      ]
     },
     "metadata": {
      "needs_background": "light"
     },
     "output_type": "display_data"
    }
   ],
   "source": [
    "#研究出start必須在0~2且不可超過range形成一個馬鞍線找最小值而epochs&learning值可做適當更改測試找到0.82\n",
    "import numpy as np\n",
    "import matplotlib.pyplot as plt\n",
    "def func(x): return x**3-2*x+100 #np.square(x)\n",
    "# 目標函數的一階導數:dy/dx=3*x**2-2\n",
    "def dfunc(x): return 3*x**2-2\n",
    "def GD(x_start, df, epochs, lr):    \n",
    "    \"\"\"  梯度下降法。給定起始點與目標函數的一階導函數，求在epochs次反覆運算中x的更新值\n",
    "        :param x_start: x的起始點    \n",
    "        :param df: 目標函數的一階導函數    \n",
    "        :param epochs: 反覆運算週期    \n",
    "        :param lr: 學習率    \n",
    "        :return: x在每次反覆運算後的位置（包括起始點），長度為epochs+1    \n",
    "     \"\"\"    \n",
    "    xs = np.zeros(epochs+1)    \n",
    "    w = x_start    \n",
    "    xs[0] = w    \n",
    "    for i in range(epochs):         \n",
    "        dx = df(w)        \n",
    "        # 權重的更新W_new\n",
    "        # W_new = W — learning_rate * gradient        \n",
    "        w += - dx * lr         \n",
    "        xs[i+1] = w    \n",
    "    return xs\n",
    "\n",
    "# Main, 超參數(Hyperparameters)\n",
    "# 起始權重\n",
    "x_start =2    \n",
    "# 執行週期數\n",
    "epochs=10 \n",
    "# 學習率   \n",
    "lr = 0.2   \n",
    "# 梯度下降法 \n",
    "# *** Function 可以直接當參數傳遞 ***\n",
    "w = GD(x_start, dfunc, epochs, lr=lr) \n",
    "print (np.around(w, 2))\n",
    "# 輸出：[-5.     -2.     -0.8    -0.32   -0.128  -0.0512]\n",
    "\n",
    "color = 'r'    \n",
    "from numpy import arange\n",
    "t = arange(-6.0, 6.0, 0.01)\n",
    "plt.plot(t, func(t), c='b')\n",
    "plt.plot(w, func(w), c=color, label='lr={}'.format(lr))    \n",
    "plt.scatter(w, func(w), c=color, ) \n",
    "\n",
    "# 設定中文字型\n",
    "from matplotlib.font_manager import FontProperties\n",
    "font = FontProperties(fname=r\"c:\\windows\\fonts\\msjhbd.ttc\", size=20)   \n",
    "plt.title('梯度下降法', fontproperties=font)\n",
    "plt.xlabel('w', fontsize=20)\n",
    "plt.ylabel('Loss', fontsize=20)\n",
    "\n",
    "# 矯正負號\n",
    "plt.rcParams['axes.unicode_minus'] = False\n",
    "\n",
    "plt.show()"
   ]
  },
  {
   "cell_type": "code",
   "execution_count": 4,
   "metadata": {},
   "outputs": [
    {
     "data": {
      "text/latex": [
       "$\\displaystyle 10 x - 3$"
      ],
      "text/plain": [
       "10*x - 3"
      ]
     },
     "execution_count": 4,
     "metadata": {},
     "output_type": "execute_result"
    }
   ],
   "source": [
    "from sympy import *\n",
    "x=Symbol('x')\n",
    "y= -(-5*x**2+3*x+6)\n",
    "y.diff(x)"
   ]
  },
  {
   "cell_type": "code",
   "execution_count": 18,
   "metadata": {},
   "outputs": [
    {
     "name": "stdout",
     "output_type": "stream",
     "text": [
      "[ 0.   0.6 -0.   0.6 -0.   0.6 -0.   0.6 -0.   0.6 -0.   0.6 -0.   0.6\n",
      " -0.   0.6 -0.   0.6 -0.   0.6 -0.   0.6 -0.   0.6 -0.   0.6 -0.   0.6\n",
      " -0.   0.6 -0.   0.6 -0.   0.6 -0.   0.6 -0.   0.6 -0.   0.6 -0.   0.6\n",
      " -0.   0.6 -0.   0.6]\n"
     ]
    },
    {
     "data": {
      "image/png": "[encoded data removed]",
      "text/plain": [
       "<Figure size 432x288 with 1 Axes>"
      ]
     },
     "metadata": {
      "needs_background": "light"
     },
     "output_type": "display_data"
    }
   ],
   "source": [
    "#研究出最大值在測試學習率l=0~0.2的跨出步伐所以不乏不可超過0.2否則找不到最大值(max),epochs在50時可找到max值-1.4 or 0.6\n",
    "import numpy as np\n",
    "import matplotlib.pyplot as plt\n",
    "# 目標函數(損失函數):y=-5*x**2+3*x+6\n",
    "def func(x): return -(-5*x**2+3*x+6) #np.square(x)\n",
    "\n",
    "# 目標函數的一階導數:dy/dx=3*x-10\n",
    "def dfunc(x): return 10*x-3\n",
    "\n",
    "def GD(x_start, df, epochs, lr):    \n",
    "    \"\"\"  梯度下降法。給定起始點與目標函數的一階導函數，求在epochs次反覆運算中x的更新值\n",
    "        :param x_start: x的起始點    \n",
    "        :param df: 目標函數的一階導函數    \n",
    "        :param epochs: 反覆運算週期    \n",
    "        :param lr: 學習率    \n",
    "        :return: x在每次反覆運算後的位置（包括起始點），長度為epochs+1    \n",
    "     \"\"\"    \n",
    "    xs = np.zeros(epochs+1)    \n",
    "    w = x_start    \n",
    "    xs[0] = w    \n",
    "    for i in range(epochs):         \n",
    "        dx = df(w)        \n",
    "        # 權重的更新W_new\n",
    "        # W_new = W — learning_rate * gradient        \n",
    "        w += - dx * lr         \n",
    "        xs[i+1] = w    \n",
    "    return xs\n",
    "\n",
    "# Main, 超參數(Hyperparameters)\n",
    "# 起始權重\n",
    "x_start = 0    \n",
    "# 執行週期數\n",
    "epochs =45\n",
    "# 學習率   \n",
    "lr=0.2 \n",
    "# 梯度下降法 \n",
    "# *** Function 可以直接當參數傳遞 ***\n",
    "w = GD(x_start, dfunc, epochs, lr=lr) \n",
    "print (np.around(w, 2))\n",
    "# 輸出：[-5.     -2.     -0.8    -0.32   -0.128  -0.0512]\n",
    "\n",
    "color = 'r'    \n",
    "from numpy import arange\n",
    "t = arange(-6.0, 6.0, 0.01)\n",
    "plt.plot(t, func(t), c='b')\n",
    "plt.plot(w, func(w), c=color, label='lr={}'.format(lr))    \n",
    "plt.scatter(w, func(w), c=color, ) \n",
    "\n",
    "# 設定中文字型\n",
    "from matplotlib.font_manager import FontProperties\n",
    "font = FontProperties(fname=r\"c:\\windows\\fonts\\msjhbd.ttc\", size=20)   \n",
    "plt.title('梯度下降法', fontproperties=font)\n",
    "plt.xlabel('w', fontsize=20)\n",
    "plt.ylabel('Loss', fontsize=20)\n",
    "\n",
    "# 矯正負號\n",
    "plt.rcParams['axes.unicode_minus'] = False\n",
    "\n",
    "plt.show()"
   ]
  },
  {
   "cell_type": "markdown",
   "metadata": {},
   "source": [
    "# Lab_2"
   ]
  },
  {
   "cell_type": "code",
   "execution_count": 93,
   "metadata": {},
   "outputs": [
    {
     "data": {
      "text/latex": [
       "$\\displaystyle 8 x^{3} - 6 x + 2$"
      ],
      "text/plain": [
       "8*x**3 - 6*x + 2"
      ]
     },
     "execution_count": 93,
     "metadata": {},
     "output_type": "execute_result"
    }
   ],
   "source": [
    "from sympy import *\n",
    "x=Symbol('x')\n",
    "y=2*x**4-3*x**2+2*x-20\n",
    "y.diff(x)"
   ]
  },
  {
   "cell_type": "code",
   "execution_count": 102,
   "metadata": {},
   "outputs": [
    {
     "name": "stdout",
     "output_type": "stream",
     "text": [
      "[ 0. -1. -1. -1. -1. -1. -1. -1. -1. -1. -1.]\n"
     ]
    },
    {
     "data": {
      "image/png": "[encoded data removed]",
      "text/plain": [
       "<Figure size 432x288 with 1 Axes>"
      ]
     },
     "metadata": {
      "needs_background": "light"
     },
     "output_type": "display_data"
    }
   ],
   "source": [
    "#研究出start必須在0~1的range內而learning必須在0.5使值不會出現overflow error找到固定-1的最小值\n",
    "import numpy as np\n",
    "\n",
    "import matplotlib.pyplot as plt\n",
    "\n",
    "# 目標函數(損失函數):y=2x^4-3x^2+2x-20 \n",
    "def func(x): return 2*x**4-3*x**2+2*x-20 #np.square(x)\n",
    "\n",
    "# 目標函數的一階導數:dy/dx=2*x\n",
    "def dfunc(x): return 8*x**3-6*x+2\n",
    "def GD(x_start, df, epochs, lr):    \n",
    "    \"\"\"  梯度下降法。給定起始點與目標函數的一階導函數，求在epochs次反覆運算中x的更新值\n",
    "        :param x_start: x的起始點    \n",
    "        :param df: 目標函數的一階導函數    \n",
    "        :param epochs: 反覆運算週期    \n",
    "        :param lr: 學習率    \n",
    "        :return: x在每次反覆運算後的位置（包括起始點），長度為epochs+1    \n",
    "     \"\"\"    \n",
    "    xs = np.zeros(epochs+1)    \n",
    "    w = x_start    \n",
    "    xs[0] = w    \n",
    "    for i in range(epochs):         \n",
    "        dx = df(w)        \n",
    "        # 權重的更新W_new\n",
    "        # W_new = W — learning_rate * gradient        \n",
    "        w += - dx * lr         \n",
    "        xs[i+1] = w    \n",
    "    return xs\n",
    "\n",
    "# Main, 超參數(Hyperparameters)\n",
    "# 起始權重\n",
    "x_start = 0    \n",
    "# 執行週期數\n",
    "epochs =10 \n",
    "# 學習率   \n",
    "lr = 0.5   \n",
    "# 梯度下降法 \n",
    "# *** Function 可以直接當參數傳遞 ***\n",
    "w = GD(x_start, dfunc, epochs, lr=lr) \n",
    "print (np.around(w, 2))\n",
    "# 輸出：[-5.     -2.     -0.8    -0.32   -0.128  -0.0512]\n",
    "\n",
    "color = 'r'    \n",
    "from numpy import arange\n",
    "t = arange(-6.0, 6.0, 0.01)\n",
    "plt.plot(t, func(t), c='b')\n",
    "plt.plot(w, func(w), c=color, label='lr={}'.format(lr))    \n",
    "plt.scatter(w, func(w), c=color, ) \n",
    "\n",
    "# 設定中文字型\n",
    "from matplotlib.font_manager import FontProperties\n",
    "font = FontProperties(fname=r\"c:\\windows\\fonts\\msjhbd.ttc\", size=20)   \n",
    "plt.title('梯度下降法', fontproperties=font)\n",
    "plt.xlabel('w', fontsize=20)\n",
    "plt.ylabel('Loss', fontsize=20)\n",
    "\n",
    "# 矯正負號\n",
    "plt.rcParams['axes.unicode_minus'] = False\n",
    "\n",
    "plt.show()"
   ]
  },
  {
   "cell_type": "markdown",
   "metadata": {},
   "source": [
    "# Lab_3"
   ]
  },
  {
   "cell_type": "code",
   "execution_count": 151,
   "metadata": {},
   "outputs": [
    {
     "name": "stdout",
     "output_type": "stream",
     "text": [
      "[ 1.    0.77  0.42 ... -1.22 -1.22 -1.22]\n"
     ]
    },
    {
     "data": {
      "image/png": "[encoded data removed]",
      "text/plain": [
       "<Figure size 432x288 with 1 Axes>"
      ]
     },
     "metadata": {
      "needs_background": "light"
     },
     "output_type": "display_data"
    }
   ],
   "source": [
    "#研究改變epochs>=1000的值可精準求出minimum\n",
    "import numpy as np\n",
    "import matplotlib.pyplot as plt\n",
    "from sympy import *\n",
    "x = Symbol('x')\n",
    "y = sin(x)* E ** (-0.1*(x-0.6)**2)\n",
    "yprime= y.diff(x)\n",
    "# 目標函數(損失函數)\n",
    "def func(x): return np.sin(x)*np.exp(-0.1*(x-0.6)**2) #np.square(x)\n",
    "\n",
    "# 目標函數的一階導數:dy/dx\n",
    "def dfunc(x_value): return yprime.subs(x, x_value).evalf()\n",
    "\n",
    "def GD(x_start, df, epochs, lr):    \n",
    "    \"\"\"  梯度下降法。給定起始點與目標函數的一階導函數，求在epochs次反覆運算中x的更新值\n",
    "        :param x_start: x的起始點    \n",
    "        :param df: 目標函數的一階導函數    \n",
    "        :param epochs: 反覆運算週期    \n",
    "        :param lr: 學習率    \n",
    "        :return: x在每次反覆運算後的位置（包括起始點），長度為epochs+1    \n",
    "     \"\"\"    \n",
    "    xs = np.zeros(epochs+1)    \n",
    "    w = x_start    \n",
    "    xs[0] = w    \n",
    "    for i in range(epochs):         \n",
    "        dx = df(w)        \n",
    "        # 權重的更新W_new\n",
    "        # W_new = W — learning_rate * gradient        \n",
    "        w += - dx * lr\n",
    "        xs[i+1]= w    \n",
    "    return xs\n",
    "\n",
    "# Main, 超參數(Hyperparameters)\n",
    "# 起始權重\n",
    "x_start =1 \n",
    "# 執行週期數\n",
    "epochs = 2000\n",
    "# 學習率   \n",
    "lr = 0.5  \n",
    "# 梯度下降法 \n",
    "# *** Function 可以直接當參數傳遞 ***\n",
    "w = GD(x_start, dfunc, epochs, lr=lr)\n",
    "print (np.around(w, 2))\n",
    "# 輸出：[-5.     -2.     -0.8    -0.32   -0.128  -0.0512]\n",
    "\n",
    "color = 'r'    \n",
    "from numpy import arange\n",
    "t = arange(-6.0, 6.0, 0.01)\n",
    "plt.plot(t, func(t), c='b')\n",
    "plt.plot(w, func(w), c=color, label='lr={}'.format(lr))    \n",
    "plt.scatter(w, func(w), c=color, ) \n",
    "\n",
    "# 設定中文字型\n",
    "from matplotlib.font_manager import FontProperties\n",
    "font = FontProperties(fname=r\"c:\\windows\\fonts\\msjhbd.ttc\", size=20)   \n",
    "plt.title('梯度下降法', fontproperties=font)\n",
    "plt.xlabel('w', fontsize=20)\n",
    "plt.ylabel('Loss', fontsize=20)\n",
    "\n",
    "# 矯正負號\n",
    "plt.rcParams['axes.unicode_minus'] = False\n",
    "\n",
    "plt.show()"
   ]
  },
  {
   "cell_type": "code",
   "execution_count": null,
   "metadata": {},
   "outputs": [],
   "source": []
  }
 ],
 "metadata": {
  "kernelspec": {
   "display_name": "Python 3",
   "language": "python",
   "name": "python3"
  },
  "language_info": {
   "codemirror_mode": {
    "name": "ipython",
    "version": 3
   },
   "file_extension": ".py",
   "mimetype": "text/x-python",
   "name": "python",
   "nbconvert_exporter": "python",
   "pygments_lexer": "ipython3",
   "version": "3.8.5"
  }
 },
 "nbformat": 4,
 "nbformat_minor": 4
}
